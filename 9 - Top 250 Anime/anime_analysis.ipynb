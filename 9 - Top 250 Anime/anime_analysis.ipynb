{
 "cells": [
  {
   "cell_type": "code",
   "execution_count": 17,
   "metadata": {},
   "outputs": [],
   "source": [
    "import pandas as pd\n",
    "import matplotlib.pyplot as plt\n",
    "import plotly.express as px\n",
    "\n",
    "#read excel file\n",
    "df = pd.read_excel('top250_anime.xlsx')\n"
   ]
  },
  {
   "cell_type": "code",
   "execution_count": 4,
   "metadata": {},
   "outputs": [
    {
     "name": "stdout",
     "output_type": "stream",
     "text": [
      "   Rank                                              Title  Score\n",
      "0     1  Shingeki no Kyojin: The Final Season - Kankets...   9.17\n",
      "1     2                   Fullmetal Alchemist: Brotherhood   9.11\n",
      "2     3                          Bleach: Sennen Kessen-hen   9.09\n",
      "3     4                                        Steins;Gate   9.08\n",
      "4     5                                           Gintama°   9.07\n",
      "5     6         Kaguya-sama wa Kokurasetai: Ultra Romantic   9.06\n",
      "6     7                 Shingeki no Kyojin Season 3 Part 2   9.06\n",
      "7     8                                 Gintama: The Final   9.05\n",
      "9    10                             Hunter x Hunter (2011)   9.04\n",
      "8     9                                           Gintama'   9.04\n"
     ]
    }
   ],
   "source": [
    "# view the top 10 anime by score\n",
    "top10 = df.sort_values(by='Score', ascending=False).head(10)\n",
    "print(top10[['Rank', 'Title', 'Score']])"
   ]
  },
  {
   "cell_type": "code",
   "execution_count": 5,
   "metadata": {},
   "outputs": [
    {
     "name": "stdout",
     "output_type": "stream",
     "text": [
      "Drama              107\n",
      "Action             101\n",
      "Fantasy             60\n",
      "Supernatural        59\n",
      "Comedy              57\n",
      "Adventure           47\n",
      "Sci-Fi              45\n",
      "Mystery             38\n",
      "Romance             33\n",
      "Slice of Life       27\n",
      "Award Winning       27\n",
      "Sports              22\n",
      "Suspense            21\n",
      "Horror               5\n",
      "Avant Garde          3\n",
      "Ecchi                2\n",
      "Music                2\n",
      " Suspense            1\n",
      " Sci-Fi              1\n",
      " Action              1\n",
      "Drama, Sports        1\n",
      "Psychological        1\n",
      "Drama, Suspense      1\n",
      "Boys Love            1\n",
      "dtype: int64\n"
     ]
    }
   ],
   "source": [
    "# count the number of anime in each genre\n",
    "genre_counts = df['Genre'].str.split(', ', expand=True).stack().value_counts()\n",
    "print(genre_counts)"
   ]
  },
  {
   "cell_type": "code",
   "execution_count": 6,
   "metadata": {},
   "outputs": [
    {
     "name": "stdout",
     "output_type": "stream",
     "text": [
      "Madhouse           15\n",
      "Shaft              13\n",
      "Kyoto Animation    11\n",
      "Sunrise            11\n",
      "Production I.G     10\n",
      "ufotable           10\n",
      "A-1 Pictures       10\n",
      "Bones               9\n",
      "MAPPA               8\n",
      "Wit Studio          8\n",
      "Name: Studio, dtype: int64\n"
     ]
    }
   ],
   "source": [
    "# view the top 10 studios by number of anime produced\n",
    "top_studios = df['Studio'].value_counts().head(10)\n",
    "print(top_studios)"
   ]
  },
  {
   "cell_type": "code",
   "execution_count": 7,
   "metadata": {},
   "outputs": [
    {
     "name": "stdout",
     "output_type": "stream",
     "text": [
      "Type\n",
      "Movie      105.471698\n",
      "Music        4.250000\n",
      "ONA         21.700000\n",
      "OVA         33.000000\n",
      "Special     35.666667\n",
      "TV          24.115854\n",
      "Name: Duration, dtype: float64\n"
     ]
    }
   ],
   "source": [
    "# calculate the average episode duration for each type of anime\n",
    "type_duration = df.groupby('Type')['Duration'].mean()\n",
    "print(type_duration)"
   ]
  },
  {
   "cell_type": "code",
   "execution_count": 8,
   "metadata": {},
   "outputs": [
    {
     "name": "stdout",
     "output_type": "stream",
     "text": [
      "            Popularity    Score\n",
      "Popularity     1.00000 -0.23309\n",
      "Score         -0.23309  1.00000\n"
     ]
    }
   ],
   "source": [
    "# calculate the correlation between popularity and score\n",
    "correlation = df[['Popularity', 'Score']].corr()\n",
    "print(correlation)"
   ]
  },
  {
   "cell_type": "code",
   "execution_count": 12,
   "metadata": {},
   "outputs": [
    {
     "name": "stdout",
     "output_type": "stream",
     "text": [
      "                                Title    Members\n",
      "110                Shingeki no Kyojin  3673536.0\n",
      "81                         Death Note  3646544.0\n",
      "1    Fullmetal Alchemist: Brotherhood  3109951.0\n",
      "128                     One Punch Man  3001104.0\n",
      "124                  Kimetsu no Yaiba  2723019.0\n"
     ]
    }
   ],
   "source": [
    "# sort the dataframe by 'Members' column in descending order\n",
    "sorted_df = df.sort_values(by='Members', ascending=False)\n",
    "\n",
    "# select the top 5 anime by Members\n",
    "top_5_popularity = sorted_df.head(5)\n",
    "\n",
    "# print the top 5 anime by Members\n",
    "print(top_5_popularity[['Title', 'Members']])"
   ]
  },
  {
   "cell_type": "code",
   "execution_count": 14,
   "metadata": {},
   "outputs": [
    {
     "data": {
      "image/png": "[encoded data removed]",
      "text/plain": [
       "<Figure size 640x480 with 1 Axes>"
      ]
     },
     "metadata": {},
     "output_type": "display_data"
    }
   ],
   "source": [
    "# plot the top 10 anime by rank\n",
    "plt.bar(df['Rank'].head(10), df['Title'].head(10))\n",
    "plt.xlabel('Rank')\n",
    "plt.ylabel('Title')\n",
    "plt.title('Top 10 Anime by Rank')\n",
    "plt.show()"
   ]
  },
  {
   "cell_type": "code",
   "execution_count": 15,
   "metadata": {},
   "outputs": [
    {
     "data": {
      "image/png": "[encoded data removed]",
      "text/plain": [
       "<Figure size 640x480 with 1 Axes>"
      ]
     },
     "metadata": {},
     "output_type": "display_data"
    }
   ],
   "source": [
    "# plot the top 5 anime by popularity as a pie chart\n",
    "plt.pie(df['Popularity'].head(5), labels=df['Title'].head(5), autopct='%1.1f%%')\n",
    "plt.title('Top 5 Anime by Popularity')\n",
    "plt.show()"
   ]
  },
  {
   "cell_type": "code",
   "execution_count": 16,
   "metadata": {},
   "outputs": [
    {
     "data": {
      "image/png": "[encoded data removed]",
      "text/plain": [
       "<Figure size 640x480 with 1 Axes>"
      ]
     },
     "metadata": {},
     "output_type": "display_data"
    }
   ],
   "source": [
    "# plot anime score vs. number of members as a scatter plot\n",
    "plt.scatter(df['Score'], df['Members'], alpha=0.5)\n",
    "plt.xlabel('Score')\n",
    "plt.ylabel('Members')\n",
    "plt.title('Anime Score vs. Number of Members')\n",
    "plt.show()"
   ]
  },
  {
   "cell_type": "code",
   "execution_count": 19,
   "metadata": {},
   "outputs": [
    {
     "data": {
      "application/vnd.plotly.v1+json": {
       "config": {
        "plotlyServerURL": "https://plot.ly"
       },
       "data": [
        {
         "hovertemplate": "<b>%{hovertext}</b><br><br>Genre=Action, Drama, Suspense<br>Score=%{x}<br>Popularity=%{y}<extra></extra>",
         "hovertext": [
          "Shingeki no Kyojin: The Final Season - Kanketsu-hen"
         ],
         "legendgroup": "Action, Drama, Suspense",
         "marker": {
          "color": "#636efa",
          "symbol": "circle"
         },
         "mode": "markers",
         "name": "Action, Drama, Suspense",
         "orientation": "v",
         "showlegend": true,
         "type": "scatter",
         "x": [
          9.17
         ],
         "xaxis": "x",
         "y": [
          609
         ],
         "yaxis": "y"
        },
        {
         "hovertemplate": "<b>%{hovertext}</b><br><br>Genre=Action, Adventure, Drama, Fantasy<br>Score=%{x}<br>Popularity=%{y}<extra></extra>",
         "hovertext": [
          "Fullmetal Alchemist: Brotherhood"
         ],
         "legendgroup": "Action, Adventure, Drama, Fantasy",
         "marker": {
          "color": "#EF553B",
          "symbol": "circle"
         },
         "mode": "markers",
         "name": "Action, Adventure, Drama, Fantasy",
         "orientation": "v",
         "showlegend": true,
         "type": "scatter",
         "x": [
          9.11
         ],
         "xaxis": "x",
         "y": [
          3
         ],
         "yaxis": "y"
        },
        {
         "hovertemplate": "<b>%{hovertext}</b><br><br>Genre=Action, Adventure, Fantasy<br>Score=%{x}<br>Popularity=%{y}<extra></extra>",
         "hovertext": [
          "Bleach: Sennen Kessen-hen",
          "Hunter x Hunter (2011)",
          "One Piece"
         ],
         "legendgroup": "Action, Adventure, Fantasy",
         "marker": {
          "color": "#00cc96",
          "symbol": "circle"
         },
         "mode": "markers",
         "name": "Action, Adventure, Fantasy",
         "orientation": "v",
         "showlegend": true,
         "type": "scatter",
         "x": [
          9.09,
          9.04,
          8.68
         ],
         "xaxis": "x",
         "y": [
          508,
          10,
          21
         ],
         "yaxis": "y"
        },
        {
         "hovertemplate": "<b>%{hovertext}</b><br><br>Genre=Drama,  Sci-Fi,  Suspense<br>Score=%{x}<br>Popularity=%{y}<extra></extra>",
         "hovertext": [
          "Steins;Gate"
         ],
         "legendgroup": "Drama,  Sci-Fi,  Suspense",
         "marker": {
          "color": "#ab63fa",
          "symbol": "circle"
         },
         "mode": "markers",
         "name": "Drama,  Sci-Fi,  Suspense",
         "orientation": "v",
         "showlegend": true,
         "type": "scatter",
         "x": [
          9.08
         ],
         "xaxis": "x",
         "y": [
          13
         ],
         "yaxis": "y"
        },
        {
         "hovertemplate": "<b>%{hovertext}</b><br><br>Genre=Action, Comedy, Sci-Fi<br>Score=%{x}<br>Popularity=%{y}<extra></extra>",
         "hovertext": [
          "Gintama°",
          "Gintama'",
          "Gintama': Enchousen",
          "Gintama.",
          "Gintama",
          "Gintama Movie 2: Kanketsu-hen - Yorozuya yo Eien Nare",
          "Gintama.: Shirogane no Tamashii-hen - Kouhan-sen",
          "Gintama.: Shirogane no Tamashii-hen"
         ],
         "legendgroup": "Action, Comedy, Sci-Fi",
         "marker": {
          "color": "#FFA15A",
          "symbol": "circle"
         },
         "mode": "markers",
         "name": "Action, Comedy, Sci-Fi",
         "orientation": "v",
         "showlegend": true,
         "type": "scatter",
         "x": [
          9.07,
          9.04,
          9.03,
          8.99,
          8.94,
          8.92,
          8.88,
          8.81
         ],
         "xaxis": "x",
         "y": [
          335,
          385,
          712,
          744,
          138,
          960,
          1187,
          1106
         ],
         "yaxis": "y"
        },
        {
         "hovertemplate": "<b>%{hovertext}</b><br><br>Genre=Comedy, Romance<br>Score=%{x}<br>Popularity=%{y}<extra></extra>",
         "hovertext": [
          "Kaguya-sama wa Kokurasetai: Ultra Romantic"
         ],
         "legendgroup": "Comedy, Romance",
         "marker": {
          "color": "#19d3f3",
          "symbol": "circle"
         },
         "mode": "markers",
         "name": "Comedy, Romance",
         "orientation": "v",
         "showlegend": true,
         "type": "scatter",
         "x": [
          9.06
         ],
         "xaxis": "x",
         "y": [
          221
         ],
         "yaxis": "y"
        },
        {
         "hovertemplate": "<b>%{hovertext}</b><br><br>Genre=Action, Drama<br>Score=%{x}<br>Popularity=%{y}<extra></extra>",
         "hovertext": [
          "Shingeki no Kyojin Season 3 Part 2",
          "Shingeki no Kyojin: The Final Season",
          "Shingeki no Kyojin: The Final Season Part 2",
          "Shingeki no Kyojin Season 3"
         ],
         "legendgroup": "Action, Drama",
         "marker": {
          "color": "#FF6692",
          "symbol": "circle"
         },
         "mode": "markers",
         "name": "Action, Drama",
         "orientation": "v",
         "showlegend": true,
         "type": "scatter",
         "x": [
          9.06,
          8.8,
          8.77,
          8.62
         ],
         "xaxis": "x",
         "y": [
          26,
          41,
          124,
          18
         ],
         "yaxis": "y"
        },
        {
         "hovertemplate": "<b>%{hovertext}</b><br><br>Genre=Action, Comedy, Drama, Sci-Fi<br>Score=%{x}<br>Popularity=%{y}<extra></extra>",
         "hovertext": [
          "Gintama: The Final"
         ],
         "legendgroup": "Action, Comedy, Drama, Sci-Fi",
         "marker": {
          "color": "#B6E880",
          "symbol": "circle"
         },
         "mode": "markers",
         "name": "Action, Comedy, Drama, Sci-Fi",
         "orientation": "v",
         "showlegend": true,
         "type": "scatter",
         "x": [
          9.05
         ],
         "xaxis": "x",
         "y": [
          1581
         ],
         "yaxis": "y"
        },
        {
         "hovertemplate": "<b>%{hovertext}</b><br><br>Genre=Drama, Sci-Fi<br>Score=%{x}<br>Popularity=%{y}<extra></extra>",
         "hovertext": [
          "Ginga Eiyuu Densetsu"
         ],
         "legendgroup": "Drama, Sci-Fi",
         "marker": {
          "color": "#FF97FF",
          "symbol": "circle"
         },
         "mode": "markers",
         "name": "Drama, Sci-Fi",
         "orientation": "v",
         "showlegend": true,
         "type": "scatter",
         "x": [
          9.03
         ],
         "xaxis": "x",
         "y": [
          724
         ],
         "yaxis": "y"
        },
        {
         "hovertemplate": "<b>%{hovertext}</b><br><br>Genre=Drama, Romance, Supernatural<br>Score=%{x}<br>Popularity=%{y}<extra></extra>",
         "hovertext": [
          "Fruits Basket: The Final",
          "Clannad: After Story",
          "Seishun Buta Yarou wa Yumemiru Shoujo no Yume wo Minai",
          "Fruits Basket 2nd Season"
         ],
         "legendgroup": "Drama, Romance, Supernatural",
         "marker": {
          "color": "#FECB52",
          "symbol": "circle"
         },
         "mode": "markers",
         "name": "Drama, Romance, Supernatural",
         "orientation": "v",
         "showlegend": true,
         "type": "scatter",
         "x": [
          9.01,
          8.94,
          8.61,
          8.56
         ],
         "xaxis": "x",
         "y": [
          494,
          111,
          284,
          443
         ],
         "yaxis": "y"
        },
        {
         "hovertemplate": "<b>%{hovertext}</b><br><br>Genre=Comedy, Drama, Romance<br>Score=%{x}<br>Popularity=%{y}<extra></extra>",
         "hovertext": [
          "Kaguya-sama wa Kokurasetai: First Kiss wa Owaranai"
         ],
         "legendgroup": "Comedy, Drama, Romance",
         "marker": {
          "color": "#636efa",
          "symbol": "circle"
         },
         "mode": "markers",
         "name": "Comedy, Drama, Romance",
         "orientation": "v",
         "showlegend": true,
         "type": "scatter",
         "x": [
          8.95
         ],
         "xaxis": "x",
         "y": [
          1872
         ],
         "yaxis": "y"
        },
        {
         "hovertemplate": "<b>%{hovertext}</b><br><br>Genre=Drama, Slice of Life<br>Score=%{x}<br>Popularity=%{y}<extra></extra>",
         "hovertext": [
          "3-gatsu no Lion 2nd Season"
         ],
         "legendgroup": "Drama, Slice of Life",
         "marker": {
          "color": "#EF553B",
          "symbol": "circle"
         },
         "mode": "markers",
         "name": "Drama, Slice of Life",
         "orientation": "v",
         "showlegend": true,
         "type": "scatter",
         "x": [
          8.94
         ],
         "xaxis": "x",
         "y": [
          550
         ],
         "yaxis": "y"
        },
        {
         "hovertemplate": "<b>%{hovertext}</b><br><br>Genre=Award Winning, Drama<br>Score=%{x}<br>Popularity=%{y}<extra></extra>",
         "hovertext": [
          "Koe no Katachi"
         ],
         "legendgroup": "Award Winning, Drama",
         "marker": {
          "color": "#00cc96",
          "symbol": "circle"
         },
         "mode": "markers",
         "name": "Award Winning, Drama",
         "orientation": "v",
         "showlegend": true,
         "type": "scatter",
         "x": [
          8.94
         ],
         "xaxis": "x",
         "y": [
          19
         ],
         "yaxis": "y"
        },
        {
         "hovertemplate": "<b>%{hovertext}</b><br><br>Genre=Comedy<br>Score=%{x}<br>Popularity=%{y}<extra></extra>",
         "hovertext": [
          "Bocchi the Rock!",
          "Kaguya-sama wa Kokurasetai? Tensai-tachi no Renai Zunousen"
         ],
         "legendgroup": "Comedy",
         "marker": {
          "color": "#ab63fa",
          "symbol": "circle"
         },
         "mode": "markers",
         "name": "Comedy",
         "orientation": "v",
         "showlegend": true,
         "type": "scatter",
         "x": [
          8.91,
          8.64
         ],
         "xaxis": "x",
         "y": [
          597,
          96
         ],
         "yaxis": "y"
        },
        {
         "hovertemplate": "<b>%{hovertext}</b><br><br>Genre= Action, Award Winning, Drama, Sci-Fi<br>Score=%{x}<br>Popularity=%{y}<extra></extra>",
         "hovertext": [
          "Code Geass: Hangyaku no Lelouch R2"
         ],
         "legendgroup": " Action, Award Winning, Drama, Sci-Fi",
         "marker": {
          "color": "#FFA15A",
          "symbol": "circle"
         },
         "mode": "markers",
         "name": " Action, Award Winning, Drama, Sci-Fi",
         "orientation": "v",
         "showlegend": true,
         "type": "scatter",
         "x": [
          8.91
         ],
         "xaxis": "x",
         "y": [
          47
         ],
         "yaxis": "y"
        },
        {
         "hovertemplate": "<b>%{hovertext}</b><br><br>Genre=Award Winning, Drama, Fantasy<br>Score=%{x}<br>Popularity=%{y}<extra></extra>",
         "hovertext": [
          "Violet Evergarden Movie"
         ],
         "legendgroup": "Award Winning, Drama, Fantasy",
         "marker": {
          "color": "#19d3f3",
          "symbol": "circle"
         },
         "mode": "markers",
         "name": "Award Winning, Drama, Fantasy",
         "orientation": "v",
         "showlegend": true,
         "type": "scatter",
         "x": [
          8.91
         ],
         "xaxis": "x",
         "y": [
          375
         ],
         "yaxis": "y"
        },
        {
         "hovertemplate": "<b>%{hovertext}</b><br><br>Genre=Comedy, Mystery, Supernatural<br>Score=%{x}<br>Popularity=%{y}<extra></extra>",
         "hovertext": [
          "Owarimonogatari 2nd Season"
         ],
         "legendgroup": "Comedy, Mystery, Supernatural",
         "marker": {
          "color": "#FF6692",
          "symbol": "circle"
         },
         "mode": "markers",
         "name": "Comedy, Mystery, Supernatural",
         "orientation": "v",
         "showlegend": true,
         "type": "scatter",
         "x": [
          8.89
         ],
         "xaxis": "x",
         "y": [
          557
         ],
         "yaxis": "y"
        },
        {
         "hovertemplate": "<b>%{hovertext}</b><br><br>Genre=Drama, Mystery, Suspense<br>Score=%{x}<br>Popularity=%{y}<extra></extra>",
         "hovertext": [
          "Monster"
         ],
         "legendgroup": "Drama, Mystery, Suspense",
         "marker": {
          "color": "#B6E880",
          "symbol": "circle"
         },
         "mode": "markers",
         "name": "Drama, Mystery, Suspense",
         "orientation": "v",
         "showlegend": true,
         "type": "scatter",
         "x": [
          8.86
         ],
         "xaxis": "x",
         "y": [
          145
         ],
         "yaxis": "y"
        },
        {
         "hovertemplate": "<b>%{hovertext}</b><br><br>Genre=Award Winning, Drama, Supernatural<br>Score=%{x}<br>Popularity=%{y}<extra></extra>",
         "hovertext": [
          "Kimi no Na wa."
         ],
         "legendgroup": "Award Winning, Drama, Supernatural",
         "marker": {
          "color": "#FF97FF",
          "symbol": "circle"
         },
         "mode": "markers",
         "name": "Award Winning, Drama, Supernatural",
         "orientation": "v",
         "showlegend": true,
         "type": "scatter",
         "x": [
          8.85
         ],
         "xaxis": "x",
         "y": [
          11
         ],
         "yaxis": "y"
        },
        {
         "hovertemplate": "<b>%{hovertext}</b><br><br>Genre=Action, Fantasy<br>Score=%{x}<br>Popularity=%{y}<extra></extra>",
         "hovertext": [
          "Kimetsu no Yaiba: Yuukaku-hen",
          "Chainsaw Man",
          "Kimetsu no Yaiba Movie: Mugen Ressha-hen"
         ],
         "legendgroup": "Action, Fantasy",
         "marker": {
          "color": "#FECB52",
          "symbol": "circle"
         },
         "mode": "markers",
         "name": "Action, Fantasy",
         "orientation": "v",
         "showlegend": true,
         "type": "scatter",
         "x": [
          8.81,
          8.63,
          8.63
         ],
         "xaxis": "x",
         "y": [
          108,
          106,
          84
         ],
         "yaxis": "y"
        },
        {
         "hovertemplate": "<b>%{hovertext}</b><br><br>Genre=Action<br>Score=%{x}<br>Popularity=%{y}<extra></extra>",
         "hovertext": [
          "Kingdom 3rd Season",
          "Kingdom 4th Season"
         ],
         "legendgroup": "Action",
         "marker": {
          "color": "#636efa",
          "symbol": "circle"
         },
         "mode": "markers",
         "name": "Action",
         "orientation": "v",
         "showlegend": true,
         "type": "scatter",
         "x": [
          8.81,
          8.75
         ],
         "xaxis": "x",
         "y": [
          2064,
          2838
         ],
         "yaxis": "y"
        },
        {
         "hovertemplate": "<b>%{hovertext}</b><br><br>Genre=Action, Comedy, Supernatural<br>Score=%{x}<br>Popularity=%{y}<extra></extra>",
         "hovertext": [
          "Mob Psycho 100 II",
          "Mob Psycho 100 III"
         ],
         "legendgroup": "Action, Comedy, Supernatural",
         "marker": {
          "color": "#EF553B",
          "symbol": "circle"
         },
         "mode": "markers",
         "name": "Action, Comedy, Supernatural",
         "orientation": "v",
         "showlegend": true,
         "type": "scatter",
         "x": [
          8.8,
          8.74
         ],
         "xaxis": "x",
         "y": [
          76,
          376
         ],
         "yaxis": "y"
        },
        {
         "hovertemplate": "<b>%{hovertext}</b><br><br>Genre=Action, Mystery, Supernatural<br>Score=%{x}<br>Popularity=%{y}<extra></extra>",
         "hovertext": [
          "Kizumonogatari III: Reiketsu-hen",
          "Bungou Stray Dogs 4th Season",
          "Kizumonogatari II: Nekketsu-hen"
         ],
         "legendgroup": "Action, Mystery, Supernatural",
         "marker": {
          "color": "#00cc96",
          "symbol": "circle"
         },
         "mode": "markers",
         "name": "Action, Mystery, Supernatural",
         "orientation": "v",
         "showlegend": true,
         "type": "scatter",
         "x": [
          8.79,
          8.64,
          8.58
         ],
         "xaxis": "x",
         "y": [
          467,
          1124,
          486
         ],
         "yaxis": "y"
        },
        {
         "hovertemplate": "<b>%{hovertext}</b><br><br>Genre=Adventure, Award Winning, Supernatural<br>Score=%{x}<br>Popularity=%{y}<extra></extra>",
         "hovertext": [
          "Sen to Chihiro no Kamikakushi"
         ],
         "legendgroup": "Adventure, Award Winning, Supernatural",
         "marker": {
          "color": "#ab63fa",
          "symbol": "circle"
         },
         "mode": "markers",
         "name": "Adventure, Award Winning, Supernatural",
         "orientation": "v",
         "showlegend": true,
         "type": "scatter",
         "x": [
          8.78
         ],
         "xaxis": "x",
         "y": [
          44
         ],
         "yaxis": "y"
        },
        {
         "hovertemplate": "<b>%{hovertext}</b><br><br>Genre=Sports<br>Score=%{x}<br>Popularity=%{y}<extra></extra>",
         "hovertext": [
          "Haikyuu!! Karasuno Koukou vs. Shiratorizawa Gakuen Koukou",
          "Hajime no Ippo",
          "Hajime no Ippo: New Challenger",
          "Haikyuu!! Second Season",
          "Hajime no Ippo: Rising"
         ],
         "legendgroup": "Sports",
         "marker": {
          "color": "#FFA15A",
          "symbol": "circle"
         },
         "mode": "markers",
         "name": "Sports",
         "orientation": "v",
         "showlegend": true,
         "type": "scatter",
         "x": [
          8.78,
          8.75,
          8.66,
          8.64,
          8.59
         ],
         "xaxis": "x",
         "y": [
          114,
          369,
          829,
          85,
          922
         ],
         "yaxis": "y"
        },
        {
         "hovertemplate": "<b>%{hovertext}</b><br><br>Genre=Comedy, Mystery, Romance, Supernatural<br>Score=%{x}<br>Popularity=%{y}<extra></extra>",
         "hovertext": [
          "Monogatari Series: Second Season"
         ],
         "legendgroup": "Comedy, Mystery, Romance, Supernatural",
         "marker": {
          "color": "#19d3f3",
          "symbol": "circle"
         },
         "mode": "markers",
         "name": "Comedy, Mystery, Romance, Supernatural",
         "orientation": "v",
         "showlegend": true,
         "type": "scatter",
         "x": [
          8.77
         ],
         "xaxis": "x",
         "y": [
          291
         ],
         "yaxis": "y"
        },
        {
         "hovertemplate": "<b>%{hovertext}</b><br><br>Genre=Drama, Supernatural<br>Score=%{x}<br>Popularity=%{y}<extra></extra>",
         "hovertext": [
          "Shiguang Dailiren"
         ],
         "legendgroup": "Drama, Supernatural",
         "marker": {
          "color": "#FF6692",
          "symbol": "circle"
         },
         "mode": "markers",
         "name": "Drama, Supernatural",
         "orientation": "v",
         "showlegend": true,
         "type": "scatter",
         "x": [
          8.75
         ],
         "xaxis": "x",
         "y": [
          779
         ],
         "yaxis": "y"
        },
        {
         "hovertemplate": "<b>%{hovertext}</b><br><br>Genre=Action, Award Winning, Sci-Fi<br>Score=%{x}<br>Popularity=%{y}<extra></extra>",
         "hovertext": [
          "Cowboy Bebop"
         ],
         "legendgroup": "Action, Award Winning, Sci-Fi",
         "marker": {
          "color": "#B6E880",
          "symbol": "circle"
         },
         "mode": "markers",
         "name": "Action, Award Winning, Sci-Fi",
         "orientation": "v",
         "showlegend": true,
         "type": "scatter",
         "x": [
          8.75
         ],
         "xaxis": "x",
         "y": [
          43
         ],
         "yaxis": "y"
        },
        {
         "hovertemplate": "<b>%{hovertext}</b><br><br>Genre=Adventure, Fantasy, Mystery, Slice of Life, Supernatural<br>Score=%{x}<br>Popularity=%{y}<extra></extra>",
         "hovertext": [
          "Mushishi Zoku Shou 2nd Season",
          "Mushishi Zoku Shou",
          "Mushishi",
          "Mushishi Zoku Shou: Suzu no Shizuku"
         ],
         "legendgroup": "Adventure, Fantasy, Mystery, Slice of Life, Supernatural",
         "marker": {
          "color": "#FF97FF",
          "symbol": "circle"
         },
         "mode": "markers",
         "name": "Adventure, Fantasy, Mystery, Slice of Life, Supernatural",
         "orientation": "v",
         "showlegend": true,
         "type": "scatter",
         "x": [
          8.73,
          8.7,
          8.66,
          8.6
         ],
         "xaxis": "x",
         "y": [
          867,
          762,
          208,
          1636
         ],
         "yaxis": "y"
        },
        {
         "hovertemplate": "<b>%{hovertext}</b><br><br>Genre=Drama<br>Score=%{x}<br>Popularity=%{y}<extra></extra>",
         "hovertext": [
          "Shouwa Genroku Rakugo Shinjuu: Sukeroku Futatabi-hen",
          "Shouwa Genroku Rakugo Shinjuu"
         ],
         "legendgroup": "Drama",
         "marker": {
          "color": "#FECB52",
          "symbol": "circle"
         },
         "mode": "markers",
         "name": "Drama",
         "orientation": "v",
         "showlegend": true,
         "type": "scatter",
         "x": [
          8.73,
          8.57
         ],
         "xaxis": "x",
         "y": [
          1203,
          788
         ],
         "yaxis": "y"
        },
        {
         "hovertemplate": "<b>%{hovertext}</b><br><br>Genre=Action, Adventure, Drama<br>Score=%{x}<br>Popularity=%{y}<extra></extra>",
         "hovertext": [
          "Vinland Saga",
          "Vinland Saga Season 2"
         ],
         "legendgroup": "Action, Adventure, Drama",
         "marker": {
          "color": "#636efa",
          "symbol": "circle"
         },
         "mode": "markers",
         "name": "Action, Adventure, Drama",
         "orientation": "v",
         "showlegend": true,
         "type": "scatter",
         "x": [
          8.73,
          8.71
         ],
         "xaxis": "x",
         "y": [
          88,
          615
         ],
         "yaxis": "y"
        },
        {
         "hovertemplate": "<b>%{hovertext}</b><br><br>Genre=Drama, Fantasy, Ecchi<br>Score=%{x}<br>Popularity=%{y}<extra></extra>",
         "hovertext": [
          "Mushoku Tensei: Isekai Ittara Honki Dasu Part 2"
         ],
         "legendgroup": "Drama, Fantasy, Ecchi",
         "marker": {
          "color": "#EF553B",
          "symbol": "circle"
         },
         "mode": "markers",
         "name": "Drama, Fantasy, Ecchi",
         "orientation": "v",
         "showlegend": true,
         "type": "scatter",
         "x": [
          8.71
         ],
         "xaxis": "x",
         "y": [
          233
         ],
         "yaxis": "y"
        },
        {
         "hovertemplate": "<b>%{hovertext}</b><br><br>Genre=Action, Drama, Romance<br>Score=%{x}<br>Popularity=%{y}<extra></extra>",
         "hovertext": [
          "Rurouni Kenshin: Meiji Kenkaku Romantan - Tsuioku-hen"
         ],
         "legendgroup": "Action, Drama, Romance",
         "marker": {
          "color": "#00cc96",
          "symbol": "circle"
         },
         "mode": "markers",
         "name": "Action, Drama, Romance",
         "orientation": "v",
         "showlegend": true,
         "type": "scatter",
         "x": [
          8.71
         ],
         "xaxis": "x",
         "y": [
          818
         ],
         "yaxis": "y"
        },
        {
         "hovertemplate": "<b>%{hovertext}</b><br><br>Genre=Action, Drama, Sci-Fi<br>Score=%{x}<br>Popularity=%{y}<extra></extra>",
         "hovertext": [
          "86 Part 2"
         ],
         "legendgroup": "Action, Drama, Sci-Fi",
         "marker": {
          "color": "#ab63fa",
          "symbol": "circle"
         },
         "mode": "markers",
         "name": "Action, Drama, Sci-Fi",
         "orientation": "v",
         "showlegend": true,
         "type": "scatter",
         "x": [
          8.71
         ],
         "xaxis": "x",
         "y": [
          501
         ],
         "yaxis": "y"
        },
        {
         "hovertemplate": "<b>%{hovertext}</b><br><br>Genre=Drama, Sports<br>Score=%{x}<br>Popularity=%{y}<extra></extra>",
         "hovertext": [
          "Ashita no Joe 2"
         ],
         "legendgroup": "Drama, Sports",
         "marker": {
          "color": "#FFA15A",
          "symbol": "circle"
         },
         "mode": "markers",
         "name": "Drama, Sports",
         "orientation": "v",
         "showlegend": true,
         "type": "scatter",
         "x": [
          8.71
         ],
         "xaxis": "x",
         "y": [
          2966
         ],
         "yaxis": "y"
        },
        {
         "hovertemplate": "<b>%{hovertext}</b><br><br>Genre=Action, Award Winning, Drama, Sci-Fi<br>Score=%{x}<br>Popularity=%{y}<extra></extra>",
         "hovertext": [
          "Code Geass: Hangyaku no Lelouch"
         ],
         "legendgroup": "Action, Award Winning, Drama, Sci-Fi",
         "marker": {
          "color": "#19d3f3",
          "symbol": "circle"
         },
         "mode": "markers",
         "name": "Action, Award Winning, Drama, Sci-Fi",
         "orientation": "v",
         "showlegend": true,
         "type": "scatter",
         "x": [
          8.7
         ],
         "xaxis": "x",
         "y": [
          20
         ],
         "yaxis": "y"
        },
        {
         "hovertemplate": "<b>%{hovertext}</b><br><br>Genre=Award Winning, Mystery<br>Score=%{x}<br>Popularity=%{y}<extra></extra>",
         "hovertext": [
          "Odd Taxi"
         ],
         "legendgroup": "Award Winning, Mystery",
         "marker": {
          "color": "#FF6692",
          "symbol": "circle"
         },
         "mode": "markers",
         "name": "Award Winning, Mystery",
         "orientation": "v",
         "showlegend": true,
         "type": "scatter",
         "x": [
          8.7
         ],
         "xaxis": "x",
         "y": [
          559
         ],
         "yaxis": "y"
        },
        {
         "hovertemplate": "<b>%{hovertext}</b><br><br>Genre=Action, Fantasy, Supernatural<br>Score=%{x}<br>Popularity=%{y}<extra></extra>",
         "hovertext": [
          "Fate/stay night Movie: Heaven's Feel - III. Spring Song"
         ],
         "legendgroup": "Action, Fantasy, Supernatural",
         "marker": {
          "color": "#B6E880",
          "symbol": "circle"
         },
         "mode": "markers",
         "name": "Action, Fantasy, Supernatural",
         "orientation": "v",
         "showlegend": true,
         "type": "scatter",
         "x": [
          8.69
         ],
         "xaxis": "x",
         "y": [
          693
         ],
         "yaxis": "y"
        },
        {
         "hovertemplate": "<b>%{hovertext}</b><br><br>Genre=Comedy, Drama<br>Score=%{x}<br>Popularity=%{y}<extra></extra>",
         "hovertext": [
          "Great Teacher Onizuka"
         ],
         "legendgroup": "Comedy, Drama",
         "marker": {
          "color": "#FF97FF",
          "symbol": "circle"
         },
         "mode": "markers",
         "name": "Comedy, Drama",
         "orientation": "v",
         "showlegend": true,
         "type": "scatter",
         "x": [
          8.69
         ],
         "xaxis": "x",
         "y": [
          217
         ],
         "yaxis": "y"
        },
        {
         "hovertemplate": "<b>%{hovertext}</b><br><br>Genre=Action, Adventure, Supernatural<br>Score=%{x}<br>Popularity=%{y}<extra></extra>",
         "hovertext": [
          "JoJo no Kimyou na Bouken Part 6: Stone Ocean Part 3",
          "JoJo no Kimyou na Bouken Part 5: Ougon no Kaze"
         ],
         "legendgroup": "Action, Adventure, Supernatural",
         "marker": {
          "color": "#FECB52",
          "symbol": "circle"
         },
         "mode": "markers",
         "name": "Action, Adventure, Supernatural",
         "orientation": "v",
         "showlegend": true,
         "type": "scatter",
         "x": [
          8.68,
          8.58
         ],
         "xaxis": "x",
         "y": [
          1608,
          154
         ],
         "yaxis": "y"
        },
        {
         "hovertemplate": "<b>%{hovertext}</b><br><br>Genre=Adventure, Drama, Fantasy, Mystery, Sci-Fi<br>Score=%{x}<br>Popularity=%{y}<extra></extra>",
         "hovertext": [
          "Made in Abyss: Retsujitsu no Ougonkyou",
          "Made in Abyss",
          "Made in Abyss Movie 3: Fukaki Tamashii no Reimei"
         ],
         "legendgroup": "Adventure, Drama, Fantasy, Mystery, Sci-Fi",
         "marker": {
          "color": "#636efa",
          "symbol": "circle"
         },
         "mode": "markers",
         "name": "Adventure, Drama, Fantasy, Mystery, Sci-Fi",
         "orientation": "v",
         "showlegend": true,
         "type": "scatter",
         "x": [
          8.68,
          8.66,
          8.63
         ],
         "xaxis": "x",
         "y": [
          591,
          93,
          504
         ],
         "yaxis": "y"
        },
        {
         "hovertemplate": "<b>%{hovertext}</b><br><br>Genre=Action, Adventure, Award Winning, Fantasy<br>Score=%{x}<br>Popularity=%{y}<extra></extra>",
         "hovertext": [
          "Mononoke Hime"
         ],
         "legendgroup": "Action, Adventure, Award Winning, Fantasy",
         "marker": {
          "color": "#EF553B",
          "symbol": "circle"
         },
         "mode": "markers",
         "name": "Action, Adventure, Award Winning, Fantasy",
         "orientation": "v",
         "showlegend": true,
         "type": "scatter",
         "x": [
          8.67
         ],
         "xaxis": "x",
         "y": [
          103
         ],
         "yaxis": "y"
        },
        {
         "hovertemplate": "<b>%{hovertext}</b><br><br>Genre=Drama, Fantasy<br>Score=%{x}<br>Popularity=%{y}<extra></extra>",
         "hovertext": [
          "Violet Evergarden"
         ],
         "legendgroup": "Drama, Fantasy",
         "marker": {
          "color": "#00cc96",
          "symbol": "circle"
         },
         "mode": "markers",
         "name": "Drama, Fantasy",
         "orientation": "v",
         "showlegend": true,
         "type": "scatter",
         "x": [
          8.67
         ],
         "xaxis": "x",
         "y": [
          50
         ],
         "yaxis": "y"
        },
        {
         "hovertemplate": "<b>%{hovertext}</b><br><br>Genre=Action, Award Winning, Comedy<br>Score=%{x}<br>Popularity=%{y}<extra></extra>",
         "hovertext": [
          "Spy x Family"
         ],
         "legendgroup": "Action, Award Winning, Comedy",
         "marker": {
          "color": "#ab63fa",
          "symbol": "circle"
         },
         "mode": "markers",
         "name": "Action, Award Winning, Comedy",
         "orientation": "v",
         "showlegend": true,
         "type": "scatter",
         "x": [
          8.66
         ],
         "xaxis": "x",
         "y": [
          91
         ],
         "yaxis": "y"
        },
        {
         "hovertemplate": "<b>%{hovertext}</b><br><br>Genre=Adventure, Award Winning, Drama, Fantasy, Romance<br>Score=%{x}<br>Popularity=%{y}<extra></extra>",
         "hovertext": [
          "Howl no Ugoku Shiro"
         ],
         "legendgroup": "Adventure, Award Winning, Drama, Fantasy, Romance",
         "marker": {
          "color": "#FFA15A",
          "symbol": "circle"
         },
         "mode": "markers",
         "name": "Adventure, Award Winning, Drama, Fantasy, Romance",
         "orientation": "v",
         "showlegend": true,
         "type": "scatter",
         "x": [
          8.66
         ],
         "xaxis": "x",
         "y": [
          95
         ],
         "yaxis": "y"
        },
        {
         "hovertemplate": "<b>%{hovertext}</b><br><br>Genre=Action, Award Winning, Fantasy<br>Score=%{x}<br>Popularity=%{y}<extra></extra>",
         "hovertext": [
          "Jujutsu Kaisen"
         ],
         "legendgroup": "Action, Award Winning, Fantasy",
         "marker": {
          "color": "#19d3f3",
          "symbol": "circle"
         },
         "mode": "markers",
         "name": "Action, Award Winning, Fantasy",
         "orientation": "v",
         "showlegend": true,
         "type": "scatter",
         "x": [
          8.65
         ],
         "xaxis": "x",
         "y": [
          17
         ],
         "yaxis": "y"
        },
        {
         "hovertemplate": "<b>%{hovertext}</b><br><br>Genre=Drama, Slice of Life, Supernatural<br>Score=%{x}<br>Popularity=%{y}<extra></extra>",
         "hovertext": [
          "Natsume Yuujinchou Shi",
          "Natsume Yuujinchou Roku",
          "Natsume Yuujinchou San",
          "Natsume Yuujinchou Go"
         ],
         "legendgroup": "Drama, Slice of Life, Supernatural",
         "marker": {
          "color": "#FF6692",
          "symbol": "circle"
         },
         "mode": "markers",
         "name": "Drama, Slice of Life, Supernatural",
         "orientation": "v",
         "showlegend": true,
         "type": "scatter",
         "x": [
          8.65,
          8.62,
          8.58,
          8.57
         ],
         "xaxis": "x",
         "y": [
          930,
          1235,
          905,
          1238
         ],
         "yaxis": "y"
        },
        {
         "hovertemplate": "<b>%{hovertext}</b><br><br>Genre=Drama, Romance<br>Score=%{x}<br>Popularity=%{y}<extra></extra>",
         "hovertext": [
          "Shigatsu wa Kimi no Uso",
          "Kimi no Suizou wo Tabetai"
         ],
         "legendgroup": "Drama, Romance",
         "marker": {
          "color": "#B6E880",
          "symbol": "circle"
         },
         "mode": "markers",
         "name": "Drama, Romance",
         "orientation": "v",
         "showlegend": true,
         "type": "scatter",
         "x": [
          8.65,
          8.56
         ],
         "xaxis": "x",
         "y": [
          23,
          174
         ],
         "yaxis": "y"
        },
        {
         "hovertemplate": "<b>%{hovertext}</b><br><br>Genre=Fantasy<br>Score=%{x}<br>Popularity=%{y}<extra></extra>",
         "hovertext": [
          "Suzume no Tojimari"
         ],
         "legendgroup": "Fantasy",
         "marker": {
          "color": "#FF97FF",
          "symbol": "circle"
         },
         "mode": "markers",
         "name": "Fantasy",
         "orientation": "v",
         "showlegend": true,
         "type": "scatter",
         "x": [
          8.63
         ],
         "xaxis": "x",
         "y": [
          1517
         ],
         "yaxis": "y"
        },
        {
         "hovertemplate": "<b>%{hovertext}</b><br><br>Genre=Action, Adventure, Award Winning, Sci-Fi<br>Score=%{x}<br>Popularity=%{y}<extra></extra>",
         "hovertext": [
          "Tengen Toppa Gurren Lagann"
         ],
         "legendgroup": "Action, Adventure, Award Winning, Sci-Fi",
         "marker": {
          "color": "#FECB52",
          "symbol": "circle"
         },
         "mode": "markers",
         "name": "Action, Adventure, Award Winning, Sci-Fi",
         "orientation": "v",
         "showlegend": true,
         "type": "scatter",
         "x": [
          8.63
         ],
         "xaxis": "x",
         "y": [
          64
         ],
         "yaxis": "y"
        },
        {
         "hovertemplate": "<b>%{hovertext}</b><br><br>Genre=Action, Adventure, Drama, Fantasy, Mystery<br>Score=%{x}<br>Popularity=%{y}<extra></extra>",
         "hovertext": [
          "Mo Dao Zu Shi: Wanjie Pian"
         ],
         "legendgroup": "Action, Adventure, Drama, Fantasy, Mystery",
         "marker": {
          "color": "#636efa",
          "symbol": "circle"
         },
         "mode": "markers",
         "name": "Action, Adventure, Drama, Fantasy, Mystery",
         "orientation": "v",
         "showlegend": true,
         "type": "scatter",
         "x": [
          8.62
         ],
         "xaxis": "x",
         "y": [
          2375
         ],
         "yaxis": "y"
        },
        {
         "hovertemplate": "<b>%{hovertext}</b><br><br>Genre=Award Winning, Drama, Sports<br>Score=%{x}<br>Popularity=%{y}<extra></extra>",
         "hovertext": [
          "Ping Pong the Animation"
         ],
         "legendgroup": "Award Winning, Drama, Sports",
         "marker": {
          "color": "#EF553B",
          "symbol": "circle"
         },
         "mode": "markers",
         "name": "Award Winning, Drama, Sports",
         "orientation": "v",
         "showlegend": true,
         "type": "scatter",
         "x": [
          8.62
         ],
         "xaxis": "x",
         "y": [
          567
         ],
         "yaxis": "y"
        },
        {
         "hovertemplate": "<b>%{hovertext}</b><br><br>Genre=Action, Sci-Fi<br>Score=%{x}<br>Popularity=%{y}<extra></extra>",
         "hovertext": [
          "Cyberpunk: Edgerunners",
          "Tengen Toppa Gurren Lagann Movie 2: Lagann-hen"
         ],
         "legendgroup": "Action, Sci-Fi",
         "marker": {
          "color": "#00cc96",
          "symbol": "circle"
         },
         "mode": "markers",
         "name": "Action, Sci-Fi",
         "orientation": "v",
         "showlegend": true,
         "type": "scatter",
         "x": [
          8.62,
          8.57
         ],
         "xaxis": "x",
         "y": [
          389,
          1065
         ],
         "yaxis": "y"
        },
        {
         "hovertemplate": "<b>%{hovertext}</b><br><br>Genre=Supernatural, Suspense<br>Score=%{x}<br>Popularity=%{y}<extra></extra>",
         "hovertext": [
          "Death Note"
         ],
         "legendgroup": "Supernatural, Suspense",
         "marker": {
          "color": "#ab63fa",
          "symbol": "circle"
         },
         "mode": "markers",
         "name": "Supernatural, Suspense",
         "orientation": "v",
         "showlegend": true,
         "type": "scatter",
         "x": [
          8.62
         ],
         "xaxis": "x",
         "y": [
          2
         ],
         "yaxis": "y"
        },
        {
         "hovertemplate": "<b>%{hovertext}</b><br><br>Genre=Action, Award Winning, Drama, Sci-Fi, Suspense<br>Score=%{x}<br>Popularity=%{y}<extra></extra>",
         "hovertext": [
          "Evangelion: 3.0+1.0 Thrice Upon a Time"
         ],
         "legendgroup": "Action, Award Winning, Drama, Sci-Fi, Suspense",
         "marker": {
          "color": "#FFA15A",
          "symbol": "circle"
         },
         "mode": "markers",
         "name": "Action, Award Winning, Drama, Sci-Fi, Suspense",
         "orientation": "v",
         "showlegend": true,
         "type": "scatter",
         "x": [
          8.61
         ],
         "xaxis": "x",
         "y": [
          639
         ],
         "yaxis": "y"
        },
        {
         "hovertemplate": "<b>%{hovertext}</b><br><br>Genre=Award Winning, Mystery, Sci-Fi, Supernatural<br>Score=%{x}<br>Popularity=%{y}<extra></extra>",
         "hovertext": [
          "Suzumiya Haruhi no Shoushitsu"
         ],
         "legendgroup": "Award Winning, Mystery, Sci-Fi, Supernatural",
         "marker": {
          "color": "#19d3f3",
          "symbol": "circle"
         },
         "mode": "markers",
         "name": "Award Winning, Mystery, Sci-Fi, Supernatural",
         "orientation": "v",
         "showlegend": true,
         "type": "scatter",
         "x": [
          8.61
         ],
         "xaxis": "x",
         "y": [
          333
         ],
         "yaxis": "y"
        },
        {
         "hovertemplate": "<b>%{hovertext}</b><br><br>Genre=Award Winning, Fantasy, Slice of Life<br>Score=%{x}<br>Popularity=%{y}<extra></extra>",
         "hovertext": [
          "Ookami Kodomo no Ame to Yuki"
         ],
         "legendgroup": "Award Winning, Fantasy, Slice of Life",
         "marker": {
          "color": "#FF6692",
          "symbol": "circle"
         },
         "mode": "markers",
         "name": "Award Winning, Fantasy, Slice of Life",
         "orientation": "v",
         "showlegend": true,
         "type": "scatter",
         "x": [
          8.58
         ],
         "xaxis": "x",
         "y": [
          219
         ],
         "yaxis": "y"
        },
        {
         "hovertemplate": "<b>%{hovertext}</b><br><br>Genre=Award Winning, Comedy, Mystery, Romance<br>Score=%{x}<br>Popularity=%{y}<extra></extra>",
         "hovertext": [
          "Yojouhan Shinwa Taikei"
         ],
         "legendgroup": "Award Winning, Comedy, Mystery, Romance",
         "marker": {
          "color": "#B6E880",
          "symbol": "circle"
         },
         "mode": "markers",
         "name": "Award Winning, Comedy, Mystery, Romance",
         "orientation": "v",
         "showlegend": true,
         "type": "scatter",
         "x": [
          8.57
         ],
         "xaxis": "x",
         "y": [
          484
         ],
         "yaxis": "y"
        },
        {
         "hovertemplate": "<b>%{hovertext}</b><br><br>Genre=Adventure, Fantasy<br>Score=%{x}<br>Popularity=%{y}<extra></extra>",
         "hovertext": [
          "Ousama Ranking"
         ],
         "legendgroup": "Adventure, Fantasy",
         "marker": {
          "color": "#FF97FF",
          "symbol": "circle"
         },
         "mode": "markers",
         "name": "Adventure, Fantasy",
         "orientation": "v",
         "showlegend": true,
         "type": "scatter",
         "x": [
          8.56
         ],
         "xaxis": "x",
         "y": [
          358
         ],
         "yaxis": "y"
        },
        {
         "hovertemplate": "<b>%{hovertext}</b><br><br>Genre=Romance, Comedy, Drama<br>Score=%{x}<br>Popularity=%{y}<extra></extra>",
         "hovertext": [
          "Karakai Jouzu no Takagi-san Movie"
         ],
         "legendgroup": "Romance, Comedy, Drama",
         "marker": {
          "color": "#FECB52",
          "symbol": "circle"
         },
         "mode": "markers",
         "name": "Romance, Comedy, Drama",
         "orientation": "v",
         "showlegend": true,
         "type": "scatter",
         "x": [
          8.56
         ],
         "xaxis": "x",
         "y": [
          2796
         ],
         "yaxis": "y"
        },
        {
         "hovertemplate": "<b>%{hovertext}</b><br><br>Genre=Action, Adventure, Drama, Fantasy, Horror<br>Score=%{x}<br>Popularity=%{y}<extra></extra>",
         "hovertext": [
          "Kenpuu Denki Berserk"
         ],
         "legendgroup": "Action, Adventure, Drama, Fantasy, Horror",
         "marker": {
          "color": "#636efa",
          "symbol": "circle"
         },
         "mode": "markers",
         "name": "Action, Adventure, Drama, Fantasy, Horror",
         "orientation": "v",
         "showlegend": true,
         "type": "scatter",
         "x": [
          8.56
         ],
         "xaxis": "x",
         "y": [
          328
         ],
         "yaxis": "y"
        }
       ],
       "layout": {
        "legend": {
         "title": {
          "text": "Genre"
         },
         "tracegroupgap": 0
        },
        "margin": {
         "t": 60
        },
        "template": {
         "data": {
          "bar": [
           {
            "error_x": {
             "color": "#2a3f5f"
            },
            "error_y": {
             "color": "#2a3f5f"
            },
            "marker": {
             "line": {
              "color": "#E5ECF6",
              "width": 0.5
             },
             "pattern": {
              "fillmode": "overlay",
              "size": 10,
              "solidity": 0.2
             }
            },
            "type": "bar"
           }
          ],
          "barpolar": [
           {
            "marker": {
             "line": {
              "color": "#E5ECF6",
              "width": 0.5
             },
             "pattern": {
              "fillmode": "overlay",
              "size": 10,
              "solidity": 0.2
             }
            },
            "type": "barpolar"
           }
          ],
          "carpet": [
           {
            "aaxis": {
             "endlinecolor": "#2a3f5f",
             "gridcolor": "white",
             "linecolor": "white",
             "minorgridcolor": "white",
             "startlinecolor": "#2a3f5f"
            },
            "baxis": {
             "endlinecolor": "#2a3f5f",
             "gridcolor": "white",
             "linecolor": "white",
             "minorgridcolor": "white",
             "startlinecolor": "#2a3f5f"
            },
            "type": "carpet"
           }
          ],
          "choropleth": [
           {
            "colorbar": {
             "outlinewidth": 0,
             "ticks": ""
            },
            "type": "choropleth"
           }
          ],
          "contour": [
           {
            "colorbar": {
             "outlinewidth": 0,
             "ticks": ""
            },
            "colorscale": [
             [
              0,
              "#0d0887"
             ],
             [
              0.1111111111111111,
              "#46039f"
             ],
             [
              0.2222222222222222,
              "#7201a8"
             ],
             [
              0.3333333333333333,
              "#9c179e"
             ],
             [
              0.4444444444444444,
              "#bd3786"
             ],
             [
              0.5555555555555556,
              "#d8576b"
             ],
             [
              0.6666666666666666,
              "#ed7953"
             ],
             [
              0.7777777777777778,
              "#fb9f3a"
             ],
             [
              0.8888888888888888,
              "#fdca26"
             ],
             [
              1,
              "#f0f921"
             ]
            ],
            "type": "contour"
           }
          ],
          "contourcarpet": [
           {
            "colorbar": {
             "outlinewidth": 0,
             "ticks": ""
            },
            "type": "contourcarpet"
           }
          ],
          "heatmap": [
           {
            "colorbar": {
             "outlinewidth": 0,
             "ticks": ""
            },
            "colorscale": [
             [
              0,
              "#0d0887"
             ],
             [
              0.1111111111111111,
              "#46039f"
             ],
             [
              0.2222222222222222,
              "#7201a8"
             ],
             [
              0.3333333333333333,
              "#9c179e"
             ],
             [
              0.4444444444444444,
              "#bd3786"
             ],
             [
              0.5555555555555556,
              "#d8576b"
             ],
             [
              0.6666666666666666,
              "#ed7953"
             ],
             [
              0.7777777777777778,
              "#fb9f3a"
             ],
             [
              0.8888888888888888,
              "#fdca26"
             ],
             [
              1,
              "#f0f921"
             ]
            ],
            "type": "heatmap"
           }
          ],
          "heatmapgl": [
           {
            "colorbar": {
             "outlinewidth": 0,
             "ticks": ""
            },
            "colorscale": [
             [
              0,
              "#0d0887"
             ],
             [
              0.1111111111111111,
              "#46039f"
             ],
             [
              0.2222222222222222,
              "#7201a8"
             ],
             [
              0.3333333333333333,
              "#9c179e"
             ],
             [
              0.4444444444444444,
              "#bd3786"
             ],
             [
              0.5555555555555556,
              "#d8576b"
             ],
             [
              0.6666666666666666,
              "#ed7953"
             ],
             [
              0.7777777777777778,
              "#fb9f3a"
             ],
             [
              0.8888888888888888,
              "#fdca26"
             ],
             [
              1,
              "#f0f921"
             ]
            ],
            "type": "heatmapgl"
           }
          ],
          "histogram": [
           {
            "marker": {
             "pattern": {
              "fillmode": "overlay",
              "size": 10,
              "solidity": 0.2
             }
            },
            "type": "histogram"
           }
          ],
          "histogram2d": [
           {
            "colorbar": {
             "outlinewidth": 0,
             "ticks": ""
            },
            "colorscale": [
             [
              0,
              "#0d0887"
             ],
             [
              0.1111111111111111,
              "#46039f"
             ],
             [
              0.2222222222222222,
              "#7201a8"
             ],
             [
              0.3333333333333333,
              "#9c179e"
             ],
             [
              0.4444444444444444,
              "#bd3786"
             ],
             [
              0.5555555555555556,
              "#d8576b"
             ],
             [
              0.6666666666666666,
              "#ed7953"
             ],
             [
              0.7777777777777778,
              "#fb9f3a"
             ],
             [
              0.8888888888888888,
              "#fdca26"
             ],
             [
              1,
              "#f0f921"
             ]
            ],
            "type": "histogram2d"
           }
          ],
          "histogram2dcontour": [
           {
            "colorbar": {
             "outlinewidth": 0,
             "ticks": ""
            },
            "colorscale": [
             [
              0,
              "#0d0887"
             ],
             [
              0.1111111111111111,
              "#46039f"
             ],
             [
              0.2222222222222222,
              "#7201a8"
             ],
             [
              0.3333333333333333,
              "#9c179e"
             ],
             [
              0.4444444444444444,
              "#bd3786"
             ],
             [
              0.5555555555555556,
              "#d8576b"
             ],
             [
              0.6666666666666666,
              "#ed7953"
             ],
             [
              0.7777777777777778,
              "#fb9f3a"
             ],
             [
              0.8888888888888888,
              "#fdca26"
             ],
             [
              1,
              "#f0f921"
             ]
            ],
            "type": "histogram2dcontour"
           }
          ],
          "mesh3d": [
           {
            "colorbar": {
             "outlinewidth": 0,
             "ticks": ""
            },
            "type": "mesh3d"
           }
          ],
          "parcoords": [
           {
            "line": {
             "colorbar": {
              "outlinewidth": 0,
              "ticks": ""
             }
            },
            "type": "parcoords"
           }
          ],
          "pie": [
           {
            "automargin": true,
            "type": "pie"
           }
          ],
          "scatter": [
           {
            "fillpattern": {
             "fillmode": "overlay",
             "size": 10,
             "solidity": 0.2
            },
            "type": "scatter"
           }
          ],
          "scatter3d": [
           {
            "line": {
             "colorbar": {
              "outlinewidth": 0,
              "ticks": ""
             }
            },
            "marker": {
             "colorbar": {
              "outlinewidth": 0,
              "ticks": ""
             }
            },
            "type": "scatter3d"
           }
          ],
          "scattercarpet": [
           {
            "marker": {
             "colorbar": {
              "outlinewidth": 0,
              "ticks": ""
             }
            },
            "type": "scattercarpet"
           }
          ],
          "scattergeo": [
           {
            "marker": {
             "colorbar": {
              "outlinewidth": 0,
              "ticks": ""
             }
            },
            "type": "scattergeo"
           }
          ],
          "scattergl": [
           {
            "marker": {
             "colorbar": {
              "outlinewidth": 0,
              "ticks": ""
             }
            },
            "type": "scattergl"
           }
          ],
          "scattermapbox": [
           {
            "marker": {
             "colorbar": {
              "outlinewidth": 0,
              "ticks": ""
             }
            },
            "type": "scattermapbox"
           }
          ],
          "scatterpolar": [
           {
            "marker": {
             "colorbar": {
              "outlinewidth": 0,
              "ticks": ""
             }
            },
            "type": "scatterpolar"
           }
          ],
          "scatterpolargl": [
           {
            "marker": {
             "colorbar": {
              "outlinewidth": 0,
              "ticks": ""
             }
            },
            "type": "scatterpolargl"
           }
          ],
          "scatterternary": [
           {
            "marker": {
             "colorbar": {
              "outlinewidth": 0,
              "ticks": ""
             }
            },
            "type": "scatterternary"
           }
          ],
          "surface": [
           {
            "colorbar": {
             "outlinewidth": 0,
             "ticks": ""
            },
            "colorscale": [
             [
              0,
              "#0d0887"
             ],
             [
              0.1111111111111111,
              "#46039f"
             ],
             [
              0.2222222222222222,
              "#7201a8"
             ],
             [
              0.3333333333333333,
              "#9c179e"
             ],
             [
              0.4444444444444444,
              "#bd3786"
             ],
             [
              0.5555555555555556,
              "#d8576b"
             ],
             [
              0.6666666666666666,
              "#ed7953"
             ],
             [
              0.7777777777777778,
              "#fb9f3a"
             ],
             [
              0.8888888888888888,
              "#fdca26"
             ],
             [
              1,
              "#f0f921"
             ]
            ],
            "type": "surface"
           }
          ],
          "table": [
           {
            "cells": {
             "fill": {
              "color": "#EBF0F8"
             },
             "line": {
              "color": "white"
             }
            },
            "header": {
             "fill": {
              "color": "#C8D4E3"
             },
             "line": {
              "color": "white"
             }
            },
            "type": "table"
           }
          ]
         },
         "layout": {
          "annotationdefaults": {
           "arrowcolor": "#2a3f5f",
           "arrowhead": 0,
           "arrowwidth": 1
          },
          "autotypenumbers": "strict",
          "coloraxis": {
           "colorbar": {
            "outlinewidth": 0,
            "ticks": ""
           }
          },
          "colorscale": {
           "diverging": [
            [
             0,
             "#8e0152"
            ],
            [
             0.1,
             "#c51b7d"
            ],
            [
             0.2,
             "#de77ae"
            ],
            [
             0.3,
             "#f1b6da"
            ],
            [
             0.4,
             "#fde0ef"
            ],
            [
             0.5,
             "#f7f7f7"
            ],
            [
             0.6,
             "#e6f5d0"
            ],
            [
             0.7,
             "#b8e186"
            ],
            [
             0.8,
             "#7fbc41"
            ],
            [
             0.9,
             "#4d9221"
            ],
            [
             1,
             "#276419"
            ]
           ],
           "sequential": [
            [
             0,
             "#0d0887"
            ],
            [
             0.1111111111111111,
             "#46039f"
            ],
            [
             0.2222222222222222,
             "#7201a8"
            ],
            [
             0.3333333333333333,
             "#9c179e"
            ],
            [
             0.4444444444444444,
             "#bd3786"
            ],
            [
             0.5555555555555556,
             "#d8576b"
            ],
            [
             0.6666666666666666,
             "#ed7953"
            ],
            [
             0.7777777777777778,
             "#fb9f3a"
            ],
            [
             0.8888888888888888,
             "#fdca26"
            ],
            [
             1,
             "#f0f921"
            ]
           ],
           "sequentialminus": [
            [
             0,
             "#0d0887"
            ],
            [
             0.1111111111111111,
             "#46039f"
            ],
            [
             0.2222222222222222,
             "#7201a8"
            ],
            [
             0.3333333333333333,
             "#9c179e"
            ],
            [
             0.4444444444444444,
             "#bd3786"
            ],
            [
             0.5555555555555556,
             "#d8576b"
            ],
            [
             0.6666666666666666,
             "#ed7953"
            ],
            [
             0.7777777777777778,
             "#fb9f3a"
            ],
            [
             0.8888888888888888,
             "#fdca26"
            ],
            [
             1,
             "#f0f921"
            ]
           ]
          },
          "colorway": [
           "#636efa",
           "#EF553B",
           "#00cc96",
           "#ab63fa",
           "#FFA15A",
           "#19d3f3",
           "#FF6692",
           "#B6E880",
           "#FF97FF",
           "#FECB52"
          ],
          "font": {
           "color": "#2a3f5f"
          },
          "geo": {
           "bgcolor": "white",
           "lakecolor": "white",
           "landcolor": "#E5ECF6",
           "showlakes": true,
           "showland": true,
           "subunitcolor": "white"
          },
          "hoverlabel": {
           "align": "left"
          },
          "hovermode": "closest",
          "mapbox": {
           "style": "light"
          },
          "paper_bgcolor": "white",
          "plot_bgcolor": "#E5ECF6",
          "polar": {
           "angularaxis": {
            "gridcolor": "white",
            "linecolor": "white",
            "ticks": ""
           },
           "bgcolor": "#E5ECF6",
           "radialaxis": {
            "gridcolor": "white",
            "linecolor": "white",
            "ticks": ""
           }
          },
          "scene": {
           "xaxis": {
            "backgroundcolor": "#E5ECF6",
            "gridcolor": "white",
            "gridwidth": 2,
            "linecolor": "white",
            "showbackground": true,
            "ticks": "",
            "zerolinecolor": "white"
           },
           "yaxis": {
            "backgroundcolor": "#E5ECF6",
            "gridcolor": "white",
            "gridwidth": 2,
            "linecolor": "white",
            "showbackground": true,
            "ticks": "",
            "zerolinecolor": "white"
           },
           "zaxis": {
            "backgroundcolor": "#E5ECF6",
            "gridcolor": "white",
            "gridwidth": 2,
            "linecolor": "white",
            "showbackground": true,
            "ticks": "",
            "zerolinecolor": "white"
           }
          },
          "shapedefaults": {
           "line": {
            "color": "#2a3f5f"
           }
          },
          "ternary": {
           "aaxis": {
            "gridcolor": "white",
            "linecolor": "white",
            "ticks": ""
           },
           "baxis": {
            "gridcolor": "white",
            "linecolor": "white",
            "ticks": ""
           },
           "bgcolor": "#E5ECF6",
           "caxis": {
            "gridcolor": "white",
            "linecolor": "white",
            "ticks": ""
           }
          },
          "title": {
           "x": 0.05
          },
          "xaxis": {
           "automargin": true,
           "gridcolor": "white",
           "linecolor": "white",
           "ticks": "",
           "title": {
            "standoff": 15
           },
           "zerolinecolor": "white",
           "zerolinewidth": 2
          },
          "yaxis": {
           "automargin": true,
           "gridcolor": "white",
           "linecolor": "white",
           "ticks": "",
           "title": {
            "standoff": 15
           },
           "zerolinecolor": "white",
           "zerolinewidth": 2
          }
         }
        },
        "title": {
         "text": "Top 100 Anime: Score vs. Popularity"
        },
        "xaxis": {
         "anchor": "y",
         "domain": [
          0,
          1
         ],
         "title": {
          "text": "Score"
         }
        },
        "yaxis": {
         "anchor": "x",
         "domain": [
          0,
          1
         ],
         "title": {
          "text": "Popularity"
         }
        }
       }
      }
     },
     "metadata": {},
     "output_type": "display_data"
    }
   ],
   "source": [
    "# filter the top 100 animes\n",
    "top_100_animes = df.head(100)\n",
    "\n",
    "# create an interactive scatter plot\n",
    "fig = px.scatter(top_100_animes, x=\"Score\", y=\"Popularity\", color=\"Genre\", hover_name=\"Title\")\n",
    "\n",
    "# customize the plot layout\n",
    "fig.update_layout(title=\"Top 100 Anime: Score vs. Popularity\", xaxis_title=\"Score\", yaxis_title=\"Popularity\")\n",
    "\n",
    "# display the plot\n",
    "fig.show()"
   ]
  }
 ],
 "metadata": {
  "interpreter": {
   "hash": "d6bd915dc7247e211e6382e6e51e53fe6394c4a106debb01160ea956be12be1a"
  },
  "kernelspec": {
   "display_name": "Python 3.10.9 ('base')",
   "language": "python",
   "name": "python3"
  },
  "language_info": {
   "codemirror_mode": {
    "name": "ipython",
    "version": 3
   },
   "file_extension": ".py",
   "mimetype": "text/x-python",
   "name": "python",
   "nbconvert_exporter": "python",
   "pygments_lexer": "ipython3",
   "version": "3.10.9"
  },
  "orig_nbformat": 4
 },
 "nbformat": 4,
 "nbformat_minor": 2
}
